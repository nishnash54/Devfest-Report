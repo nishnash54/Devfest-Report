{
 "cells": [
  {
   "cell_type": "code",
   "execution_count": 1,
   "metadata": {},
   "outputs": [],
   "source": [
    "# Libraries\n",
    "\n",
    "import os\n",
    "\n",
    "import numpy as np\n",
    "import pandas as pd\n",
    "\n",
    "import matplotlib.pyplot as plt\n",
    "import seaborn as sns\n",
    "\n",
    "from collections import Counter\n",
    "from pprint import pprint\n",
    "\n",
    "%matplotlib inline"
   ]
  },
  {
   "cell_type": "code",
   "execution_count": 2,
   "metadata": {},
   "outputs": [
    {
     "name": "stdout",
     "output_type": "stream",
     "text": [
      "['devfest.csv', 'devtalks.csv']\n"
     ]
    }
   ],
   "source": [
    "# Dataset\n",
    "\n",
    "print(os.listdir('./dataset'))"
   ]
  },
  {
   "cell_type": "code",
   "execution_count": 3,
   "metadata": {},
   "outputs": [
    {
     "name": "stdout",
     "output_type": "stream",
     "text": [
      "Devfest2018\n",
      "Shape:  (449, 7)\n"
     ]
    }
   ],
   "source": [
    "# Devfest dataset\n",
    "\n",
    "data = pd.read_csv('./dataset/devfest.csv')\n",
    "\n",
    "print('Devfest2018')\n",
    "print('Shape: ', data.shape)"
   ]
  },
  {
   "cell_type": "code",
   "execution_count": 4,
   "metadata": {},
   "outputs": [
    {
     "data": {
      "text/html": [
       "<div>\n",
       "<style scoped>\n",
       "    .dataframe tbody tr th:only-of-type {\n",
       "        vertical-align: middle;\n",
       "    }\n",
       "\n",
       "    .dataframe tbody tr th {\n",
       "        vertical-align: top;\n",
       "    }\n",
       "\n",
       "    .dataframe thead th {\n",
       "        text-align: right;\n",
       "    }\n",
       "</style>\n",
       "<table border=\"1\" class=\"dataframe\">\n",
       "  <thead>\n",
       "    <tr style=\"text-align: right;\">\n",
       "      <th></th>\n",
       "      <th>Sl.No</th>\n",
       "      <th>Participant ID</th>\n",
       "      <th>Participant Name</th>\n",
       "      <th>Type</th>\n",
       "      <th>Payment Status</th>\n",
       "      <th>Mobile No</th>\n",
       "      <th>Email ID</th>\n",
       "    </tr>\n",
       "  </thead>\n",
       "  <tbody>\n",
       "    <tr>\n",
       "      <th>0</th>\n",
       "      <td>1</td>\n",
       "      <td>G18I0740</td>\n",
       "      <td>SAJID YUNUS SHAIKH</td>\n",
       "      <td>Internal</td>\n",
       "      <td>Success</td>\n",
       "      <td>9003435270</td>\n",
       "      <td>sajid123cat@gmail.com</td>\n",
       "    </tr>\n",
       "    <tr>\n",
       "      <th>1</th>\n",
       "      <td>2</td>\n",
       "      <td>G18I5597</td>\n",
       "      <td>M.SRIRAMKUMAR</td>\n",
       "      <td>Internal</td>\n",
       "      <td>Success</td>\n",
       "      <td>8939470214</td>\n",
       "      <td>m.sriramkumar2018@vitstudent.ac.in</td>\n",
       "    </tr>\n",
       "    <tr>\n",
       "      <th>2</th>\n",
       "      <td>3</td>\n",
       "      <td>G18I3757</td>\n",
       "      <td>VIKRANTH KANUMURU</td>\n",
       "      <td>Internal</td>\n",
       "      <td>Success</td>\n",
       "      <td>9994420576</td>\n",
       "      <td>saivicky2012@gmail.com</td>\n",
       "    </tr>\n",
       "    <tr>\n",
       "      <th>3</th>\n",
       "      <td>4</td>\n",
       "      <td>G18I5248</td>\n",
       "      <td>SAMEERAN BANDISHTI</td>\n",
       "      <td>Internal</td>\n",
       "      <td>Success</td>\n",
       "      <td>9003300378</td>\n",
       "      <td>sameeran.bandishti2017@vitstudent.ac.in</td>\n",
       "    </tr>\n",
       "    <tr>\n",
       "      <th>4</th>\n",
       "      <td>5</td>\n",
       "      <td>G18I9273</td>\n",
       "      <td>TITICHH MISHRA</td>\n",
       "      <td>Internal</td>\n",
       "      <td>Success</td>\n",
       "      <td>9159288905</td>\n",
       "      <td>titichh.mishra2017@vitstudent.ac.in</td>\n",
       "    </tr>\n",
       "  </tbody>\n",
       "</table>\n",
       "</div>"
      ],
      "text/plain": [
       "   Sl.No Participant ID     Participant Name      Type Payment Status  \\\n",
       "0      1       G18I0740   SAJID YUNUS SHAIKH  Internal        Success   \n",
       "1      2       G18I5597        M.SRIRAMKUMAR  Internal        Success   \n",
       "2      3       G18I3757    VIKRANTH KANUMURU  Internal        Success   \n",
       "3      4       G18I5248  SAMEERAN BANDISHTI   Internal        Success   \n",
       "4      5       G18I9273       TITICHH MISHRA  Internal        Success   \n",
       "\n",
       "    Mobile No                                  Email ID  \n",
       "0  9003435270                    sajid123cat@gmail.com   \n",
       "1  8939470214       m.sriramkumar2018@vitstudent.ac.in   \n",
       "2  9994420576                   saivicky2012@gmail.com   \n",
       "3  9003300378  sameeran.bandishti2017@vitstudent.ac.in   \n",
       "4  9159288905      titichh.mishra2017@vitstudent.ac.in   "
      ]
     },
     "execution_count": 4,
     "metadata": {},
     "output_type": "execute_result"
    }
   ],
   "source": [
    "# Data head\n",
    "\n",
    "data.head()"
   ]
  },
  {
   "cell_type": "code",
   "execution_count": 5,
   "metadata": {},
   "outputs": [
    {
     "name": "stdout",
     "output_type": "stream",
     "text": [
      "Columns\n",
      "Index(['Sl.No', 'Participant ID', 'Participant Name', 'Type', 'Payment Status',\n",
      "       'Mobile No', 'Email ID'],\n",
      "      dtype='object')\n"
     ]
    }
   ],
   "source": [
    "# Description\n",
    "\n",
    "print('Columns')\n",
    "print(data.columns)"
   ]
  },
  {
   "cell_type": "code",
   "execution_count": 6,
   "metadata": {},
   "outputs": [
    {
     "name": "stdout",
     "output_type": "stream",
     "text": [
      "Sl.No\n",
      "Unique value count:  449\n"
     ]
    }
   ],
   "source": [
    "# Column - Sl.No\n",
    "\n",
    "print('Sl.No')\n",
    "print('Unique value count: ', data['Sl.No'].nunique())"
   ]
  },
  {
   "cell_type": "code",
   "execution_count": 7,
   "metadata": {},
   "outputs": [
    {
     "name": "stdout",
     "output_type": "stream",
     "text": [
      "Participant ID\n",
      "Unique value count:  449\n"
     ]
    }
   ],
   "source": [
    "# Column - Participant ID\n",
    "\n",
    "print('Participant ID')\n",
    "print('Unique value count: ', data['Participant ID'].nunique())"
   ]
  },
  {
   "cell_type": "code",
   "execution_count": 8,
   "metadata": {},
   "outputs": [
    {
     "name": "stdout",
     "output_type": "stream",
     "text": [
      "Participant Name\n",
      "Unique value count:  443\n"
     ]
    }
   ],
   "source": [
    "# Column - Participant Name\n",
    "\n",
    "print('Participant Name')\n",
    "print('Unique value count: ', data['Participant Name'].nunique())\n",
    "\n",
    "# Print common names"
   ]
  },
  {
   "cell_type": "code",
   "execution_count": 9,
   "metadata": {},
   "outputs": [
    {
     "name": "stdout",
     "output_type": "stream",
     "text": [
      "Type\n",
      "Unique value count:  2\n",
      "Unique values:  ['Internal' 'External']\n"
     ]
    }
   ],
   "source": [
    "# Column - Type\n",
    "\n",
    "print('Type')\n",
    "print('Unique value count: ', data['Type'].nunique())\n",
    "print('Unique values: ', data['Type'].unique())"
   ]
  },
  {
   "cell_type": "code",
   "execution_count": 10,
   "metadata": {},
   "outputs": [
    {
     "name": "stdout",
     "output_type": "stream",
     "text": [
      "Paymnet Status\n",
      "Unique value count:  2\n",
      "Unique values:  ['Success' 'Pending']\n"
     ]
    }
   ],
   "source": [
    "# Column - Payment Status\n",
    "\n",
    "print('Paymnet Status')\n",
    "print('Unique value count: ', data['Payment Status'].nunique())\n",
    "print('Unique values: ', data['Payment Status'].unique())"
   ]
  },
  {
   "cell_type": "code",
   "execution_count": 11,
   "metadata": {},
   "outputs": [
    {
     "name": "stdout",
     "output_type": "stream",
     "text": [
      "Mobile No\n",
      "Unique value count:  449\n"
     ]
    }
   ],
   "source": [
    "# Column - Mobile number\n",
    "\n",
    "print('Mobile No')\n",
    "print('Unique value count: ', data['Mobile No'].nunique())"
   ]
  },
  {
   "cell_type": "code",
   "execution_count": 12,
   "metadata": {},
   "outputs": [
    {
     "name": "stdout",
     "output_type": "stream",
     "text": [
      "Email ID\n",
      "Unique value count:  449\n"
     ]
    }
   ],
   "source": [
    "# Column - Email ID\n",
    "\n",
    "print('Email ID')\n",
    "print('Unique value count: ', data['Email ID'].nunique())"
   ]
  },
  {
   "cell_type": "code",
   "execution_count": 13,
   "metadata": {},
   "outputs": [
    {
     "name": "stdout",
     "output_type": "stream",
     "text": [
      "Internal vs External\n",
      "Counter({'Internal': 424, 'External': 25})\n"
     ]
    }
   ],
   "source": [
    "# Column - Type\n",
    "\n",
    "print('Internal vs External')\n",
    "pprint(Counter(data['Type']))"
   ]
  },
  {
   "cell_type": "code",
   "execution_count": 14,
   "metadata": {},
   "outputs": [
    {
     "data": {
      "text/plain": [
       "<matplotlib.axes._subplots.AxesSubplot at 0x7f99cd971048>"
      ]
     },
     "execution_count": 14,
     "metadata": {},
     "output_type": "execute_result"
    },
    {
     "data": {
      "image/png": "[encoded data removed]",
      "text/plain": [
       "<Figure size 432x288 with 1 Axes>"
      ]
     },
     "metadata": {},
     "output_type": "display_data"
    }
   ],
   "source": [
    "# Type plot\n",
    "# Internal vs External\n",
    "\n",
    "sns.countplot(data['Type'])"
   ]
  },
  {
   "cell_type": "code",
   "execution_count": 15,
   "metadata": {},
   "outputs": [
    {
     "name": "stdout",
     "output_type": "stream",
     "text": [
      "Success vs Pending\n",
      "Counter({'Success': 410, 'Pending': 39})\n"
     ]
    }
   ],
   "source": [
    "# Column - Payment Status\n",
    "\n",
    "print('Success vs Pending')\n",
    "pprint(Counter(data['Payment Status']))"
   ]
  },
  {
   "cell_type": "code",
   "execution_count": 16,
   "metadata": {},
   "outputs": [
    {
     "data": {
      "text/plain": [
       "<matplotlib.axes._subplots.AxesSubplot at 0x7f99c9d5da90>"
      ]
     },
     "execution_count": 16,
     "metadata": {},
     "output_type": "execute_result"
    },
    {
     "data": {
      "image/png": "[encoded data removed]",
      "text/plain": [
       "<Figure size 432x288 with 1 Axes>"
      ]
     },
     "metadata": {},
     "output_type": "display_data"
    }
   ],
   "source": [
    "# Payment Status plot\n",
    "# Success vs Pending\n",
    "\n",
    "sns.countplot(data['Payment Status'])"
   ]
  },
  {
   "cell_type": "code",
   "execution_count": null,
   "metadata": {},
   "outputs": [],
   "source": []
  }
 ],
 "metadata": {
  "kernelspec": {
   "display_name": "Python 3",
   "language": "python",
   "name": "python3"
  },
  "language_info": {
   "codemirror_mode": {
    "name": "ipython",
    "version": 3
   },
   "file_extension": ".py",
   "mimetype": "text/x-python",
   "name": "python",
   "nbconvert_exporter": "python",
   "pygments_lexer": "ipython3",
   "version": "3.6.5"
  }
 },
 "nbformat": 4,
 "nbformat_minor": 2
}
