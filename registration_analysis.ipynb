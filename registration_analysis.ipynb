{
 "cells": [
  {
   "cell_type": "code",
   "execution_count": 1,
   "metadata": {},
   "outputs": [],
   "source": [
    "# Libraries\n",
    "\n",
    "import os\n",
    "\n",
    "import numpy as np\n",
    "import pandas as pd\n",
    "\n",
    "import matplotlib.pyplot as plt\n",
    "import seaborn as sns\n",
    "\n",
    "from matplotlib_venn import venn2\n",
    "from collections import Counter\n",
    "from pprint import pprint\n",
    "\n",
    "%matplotlib inline"
   ]
  },
  {
   "cell_type": "code",
   "execution_count": 2,
   "metadata": {},
   "outputs": [
    {
     "name": "stdout",
     "output_type": "stream",
     "text": [
      "['campaign_data.csv', 'mongo_to_csv.py', '__pycache__', 'campaign_descirbe.md', 'devfest-registered.xlsx', 'devtalks_describe.md', 'registrations_describe.md', 'devfest.csv', 'devfest_describe.md', 'teams_describe.md', 'devtalks.csv', 'credentials.py', 'devfest-teams.xlsx']\n"
     ]
    }
   ],
   "source": [
    "# Dataset\n",
    "\n",
    "print(os.listdir('./dataset'))"
   ]
  },
  {
   "cell_type": "markdown",
   "metadata": {},
   "source": [
    "## Devfest2018\n",
    "----\n"
   ]
  },
  {
   "cell_type": "code",
   "execution_count": 3,
   "metadata": {},
   "outputs": [
    {
     "name": "stdout",
     "output_type": "stream",
     "text": [
      "Devfest2018\n",
      "Shape:  (449, 7)\n"
     ]
    }
   ],
   "source": [
    "# Devfest dataset\n",
    "\n",
    "df = pd.read_csv('./dataset/devfest.csv')\n",
    "\n",
    "print('Devfest2018')\n",
    "print('Shape: ', df.shape)"
   ]
  },
  {
   "cell_type": "code",
   "execution_count": 4,
   "metadata": {},
   "outputs": [
    {
     "data": {
      "text/html": [
       "<div>\n",
       "<style scoped>\n",
       "    .dataframe tbody tr th:only-of-type {\n",
       "        vertical-align: middle;\n",
       "    }\n",
       "\n",
       "    .dataframe tbody tr th {\n",
       "        vertical-align: top;\n",
       "    }\n",
       "\n",
       "    .dataframe thead th {\n",
       "        text-align: right;\n",
       "    }\n",
       "</style>\n",
       "<table border=\"1\" class=\"dataframe\">\n",
       "  <thead>\n",
       "    <tr style=\"text-align: right;\">\n",
       "      <th></th>\n",
       "      <th>Sl.No</th>\n",
       "      <th>Participant ID</th>\n",
       "      <th>Participant Name</th>\n",
       "      <th>Type</th>\n",
       "      <th>Payment Status</th>\n",
       "      <th>Mobile No</th>\n",
       "      <th>Email ID</th>\n",
       "    </tr>\n",
       "  </thead>\n",
       "  <tbody>\n",
       "    <tr>\n",
       "      <th>0</th>\n",
       "      <td>1</td>\n",
       "      <td>G18I0740</td>\n",
       "      <td>SAJID YUNUS SHAIKH</td>\n",
       "      <td>Internal</td>\n",
       "      <td>Success</td>\n",
       "      <td>9003435270</td>\n",
       "      <td>sajid123cat@gmail.com</td>\n",
       "    </tr>\n",
       "    <tr>\n",
       "      <th>1</th>\n",
       "      <td>2</td>\n",
       "      <td>G18I5597</td>\n",
       "      <td>M.SRIRAMKUMAR</td>\n",
       "      <td>Internal</td>\n",
       "      <td>Success</td>\n",
       "      <td>8939470214</td>\n",
       "      <td>m.sriramkumar2018@vitstudent.ac.in</td>\n",
       "    </tr>\n",
       "    <tr>\n",
       "      <th>2</th>\n",
       "      <td>3</td>\n",
       "      <td>G18I3757</td>\n",
       "      <td>VIKRANTH KANUMURU</td>\n",
       "      <td>Internal</td>\n",
       "      <td>Success</td>\n",
       "      <td>9994420576</td>\n",
       "      <td>saivicky2012@gmail.com</td>\n",
       "    </tr>\n",
       "    <tr>\n",
       "      <th>3</th>\n",
       "      <td>4</td>\n",
       "      <td>G18I5248</td>\n",
       "      <td>SAMEERAN BANDISHTI</td>\n",
       "      <td>Internal</td>\n",
       "      <td>Success</td>\n",
       "      <td>9003300378</td>\n",
       "      <td>sameeran.bandishti2017@vitstudent.ac.in</td>\n",
       "    </tr>\n",
       "    <tr>\n",
       "      <th>4</th>\n",
       "      <td>5</td>\n",
       "      <td>G18I9273</td>\n",
       "      <td>TITICHH MISHRA</td>\n",
       "      <td>Internal</td>\n",
       "      <td>Success</td>\n",
       "      <td>9159288905</td>\n",
       "      <td>titichh.mishra2017@vitstudent.ac.in</td>\n",
       "    </tr>\n",
       "  </tbody>\n",
       "</table>\n",
       "</div>"
      ],
      "text/plain": [
       "   Sl.No Participant ID     Participant Name      Type Payment Status  \\\n",
       "0      1       G18I0740   SAJID YUNUS SHAIKH  Internal        Success   \n",
       "1      2       G18I5597        M.SRIRAMKUMAR  Internal        Success   \n",
       "2      3       G18I3757    VIKRANTH KANUMURU  Internal        Success   \n",
       "3      4       G18I5248  SAMEERAN BANDISHTI   Internal        Success   \n",
       "4      5       G18I9273       TITICHH MISHRA  Internal        Success   \n",
       "\n",
       "    Mobile No                                  Email ID  \n",
       "0  9003435270                    sajid123cat@gmail.com   \n",
       "1  8939470214       m.sriramkumar2018@vitstudent.ac.in   \n",
       "2  9994420576                   saivicky2012@gmail.com   \n",
       "3  9003300378  sameeran.bandishti2017@vitstudent.ac.in   \n",
       "4  9159288905      titichh.mishra2017@vitstudent.ac.in   "
      ]
     },
     "execution_count": 4,
     "metadata": {},
     "output_type": "execute_result"
    }
   ],
   "source": [
    "# Data head\n",
    "\n",
    "df.head()"
   ]
  },
  {
   "cell_type": "code",
   "execution_count": 5,
   "metadata": {},
   "outputs": [
    {
     "name": "stdout",
     "output_type": "stream",
     "text": [
      "Columns\n",
      "Index(['Sl.No', 'Participant ID', 'Participant Name', 'Type', 'Payment Status',\n",
      "       'Mobile No', 'Email ID'],\n",
      "      dtype='object')\n"
     ]
    }
   ],
   "source": [
    "# Description\n",
    "\n",
    "print('Columns')\n",
    "print(df.columns)"
   ]
  },
  {
   "cell_type": "code",
   "execution_count": 6,
   "metadata": {},
   "outputs": [
    {
     "name": "stdout",
     "output_type": "stream",
     "text": [
      "Sl.No\n",
      "Unique value count:  449\n"
     ]
    }
   ],
   "source": [
    "# Column - Sl.No\n",
    "\n",
    "print('Sl.No')\n",
    "print('Unique value count: ', df['Sl.No'].nunique())"
   ]
  },
  {
   "cell_type": "code",
   "execution_count": 7,
   "metadata": {},
   "outputs": [
    {
     "name": "stdout",
     "output_type": "stream",
     "text": [
      "Participant ID\n",
      "Unique value count:  449\n"
     ]
    }
   ],
   "source": [
    "# Column - Participant ID\n",
    "\n",
    "print('Participant ID')\n",
    "print('Unique value count: ', df['Participant ID'].nunique())"
   ]
  },
  {
   "cell_type": "code",
   "execution_count": 8,
   "metadata": {},
   "outputs": [
    {
     "name": "stdout",
     "output_type": "stream",
     "text": [
      "Participant Name\n",
      "Unique value count:  443\n"
     ]
    }
   ],
   "source": [
    "# Column - Participant Name\n",
    "\n",
    "print('Participant Name')\n",
    "print('Unique value count: ', df['Participant Name'].nunique())\n",
    "\n",
    "# Print common names"
   ]
  },
  {
   "cell_type": "code",
   "execution_count": 9,
   "metadata": {},
   "outputs": [
    {
     "name": "stdout",
     "output_type": "stream",
     "text": [
      "Type\n",
      "Unique value count:  2\n",
      "Unique values:  ['Internal' 'External']\n"
     ]
    }
   ],
   "source": [
    "# Column - Type\n",
    "\n",
    "print('Type')\n",
    "print('Unique value count: ', df['Type'].nunique())\n",
    "print('Unique values: ', df['Type'].unique())"
   ]
  },
  {
   "cell_type": "code",
   "execution_count": 10,
   "metadata": {},
   "outputs": [
    {
     "name": "stdout",
     "output_type": "stream",
     "text": [
      "Paymnet Status\n",
      "Unique value count:  2\n",
      "Unique values:  ['Success' 'Pending']\n"
     ]
    }
   ],
   "source": [
    "# Column - Payment Status\n",
    "\n",
    "print('Paymnet Status')\n",
    "print('Unique value count: ', df['Payment Status'].nunique())\n",
    "print('Unique values: ', df['Payment Status'].unique())"
   ]
  },
  {
   "cell_type": "code",
   "execution_count": 11,
   "metadata": {},
   "outputs": [
    {
     "name": "stdout",
     "output_type": "stream",
     "text": [
      "Mobile No\n",
      "Unique value count:  449\n"
     ]
    }
   ],
   "source": [
    "# Column - Mobile number\n",
    "\n",
    "print('Mobile No')\n",
    "print('Unique value count: ', df['Mobile No'].nunique())"
   ]
  },
  {
   "cell_type": "code",
   "execution_count": 12,
   "metadata": {},
   "outputs": [
    {
     "name": "stdout",
     "output_type": "stream",
     "text": [
      "Email ID\n",
      "Unique value count:  449\n"
     ]
    }
   ],
   "source": [
    "# Column - Email ID\n",
    "\n",
    "print('Email ID')\n",
    "print('Unique value count: ', df['Email ID'].nunique())"
   ]
  },
  {
   "cell_type": "code",
   "execution_count": 13,
   "metadata": {},
   "outputs": [
    {
     "name": "stdout",
     "output_type": "stream",
     "text": [
      "Internal vs External\n",
      "Counter({'Internal': 424, 'External': 25})\n"
     ]
    }
   ],
   "source": [
    "# Column - Type\n",
    "\n",
    "print('Internal vs External')\n",
    "pprint(Counter(df['Type']))"
   ]
  },
  {
   "cell_type": "code",
   "execution_count": 14,
   "metadata": {},
   "outputs": [
    {
     "data": {
      "text/plain": [
       "<matplotlib.axes._subplots.AxesSubplot at 0x7f694e395c50>"
      ]
     },
     "execution_count": 14,
     "metadata": {},
     "output_type": "execute_result"
    },
    {
     "data": {
      "image/png": "[encoded data removed]",
      "text/plain": [
       "<Figure size 432x288 with 1 Axes>"
      ]
     },
     "metadata": {},
     "output_type": "display_data"
    }
   ],
   "source": [
    "# Type plot\n",
    "# Internal vs External\n",
    "\n",
    "sns.countplot(df['Type'], alpha=0.75)"
   ]
  },
  {
   "cell_type": "code",
   "execution_count": 15,
   "metadata": {},
   "outputs": [
    {
     "name": "stdout",
     "output_type": "stream",
     "text": [
      "Success vs Pending\n",
      "Counter({'Success': 410, 'Pending': 39})\n"
     ]
    }
   ],
   "source": [
    "# Column - Payment Status\n",
    "\n",
    "print('Success vs Pending')\n",
    "pprint(Counter(df['Payment Status']))"
   ]
  },
  {
   "cell_type": "code",
   "execution_count": 16,
   "metadata": {},
   "outputs": [
    {
     "data": {
      "text/plain": [
       "<matplotlib.axes._subplots.AxesSubplot at 0x7f694a7dbcf8>"
      ]
     },
     "execution_count": 16,
     "metadata": {},
     "output_type": "execute_result"
    },
    {
     "data": {
      "image/png": "[encoded data removed]",
      "text/plain": [
       "<Figure size 432x288 with 1 Axes>"
      ]
     },
     "metadata": {},
     "output_type": "display_data"
    }
   ],
   "source": [
    "# Payment Status plot\n",
    "# Success vs Pending\n",
    "\n",
    "sns.countplot(df['Payment Status'], alpha=0.75)"
   ]
  },
  {
   "cell_type": "code",
   "execution_count": 17,
   "metadata": {},
   "outputs": [
    {
     "data": {
      "text/plain": [
       "<matplotlib.legend.Legend at 0x7f694a73e588>"
      ]
     },
     "execution_count": 17,
     "metadata": {},
     "output_type": "execute_result"
    },
    {
     "data": {
      "image/png": "[encoded data removed]",
      "text/plain": [
       "<Figure size 432x288 with 1 Axes>"
      ]
     },
     "metadata": {},
     "output_type": "display_data"
    }
   ],
   "source": [
    "# Internal vs External - Payment Status\n",
    "\n",
    "data_internal = df['Payment Status'][df['Type'] == 'Internal'].value_counts().sort_index()\n",
    "data_external = df['Payment Status'][df['Type'] == 'External'].value_counts().sort_index()\n",
    "\n",
    "data_internal.plot(kind='bar', label='Internal', color='y', alpha=0.5)\n",
    "data_external.plot(kind='bar', label='External', color='b', alpha=0.5)\n",
    "plt.title('Internal vs External - Payment Status')\n",
    "plt.legend(loc='best')"
   ]
  },
  {
   "cell_type": "code",
   "execution_count": 18,
   "metadata": {},
   "outputs": [
    {
     "data": {
      "text/plain": [
       "<matplotlib.legend.Legend at 0x7f694a6a2cc0>"
      ]
     },
     "execution_count": 18,
     "metadata": {},
     "output_type": "execute_result"
    },
    {
     "data": {
      "image/png": "[encoded data removed]",
      "text/plain": [
       "<Figure size 432x288 with 1 Axes>"
      ]
     },
     "metadata": {},
     "output_type": "display_data"
    }
   ],
   "source": [
    "# Success vs Pending - Type\n",
    "\n",
    "data_success = df['Type'][df['Payment Status'] == 'Success'].value_counts().sort_index()\n",
    "data_pending = df['Type'][df['Payment Status'] == 'Pending'].value_counts().sort_index()\n",
    "\n",
    "data_success.plot(kind='bar', label='Success', color='g', alpha=0.5)\n",
    "data_pending.plot(kind='bar', label='Pending', color='r', alpha=0.9)\n",
    "plt.title('Success vs Pending - Type')\n",
    "plt.legend(loc='best')"
   ]
  },
  {
   "cell_type": "markdown",
   "metadata": {},
   "source": [
    "## DevTalks\n",
    "----"
   ]
  },
  {
   "cell_type": "code",
   "execution_count": 19,
   "metadata": {},
   "outputs": [
    {
     "name": "stdout",
     "output_type": "stream",
     "text": [
      "DevTalks\n",
      "Shape:  (1053, 7)\n"
     ]
    }
   ],
   "source": [
    "# DevTalks dataset\n",
    "\n",
    "dt = pd.read_csv('./dataset/devtalks.csv')\n",
    "\n",
    "print('DevTalks')\n",
    "print('Shape: ', dt.shape)"
   ]
  },
  {
   "cell_type": "code",
   "execution_count": 20,
   "metadata": {},
   "outputs": [
    {
     "data": {
      "text/html": [
       "<div>\n",
       "<style scoped>\n",
       "    .dataframe tbody tr th:only-of-type {\n",
       "        vertical-align: middle;\n",
       "    }\n",
       "\n",
       "    .dataframe tbody tr th {\n",
       "        vertical-align: top;\n",
       "    }\n",
       "\n",
       "    .dataframe thead th {\n",
       "        text-align: right;\n",
       "    }\n",
       "</style>\n",
       "<table border=\"1\" class=\"dataframe\">\n",
       "  <thead>\n",
       "    <tr style=\"text-align: right;\">\n",
       "      <th></th>\n",
       "      <th>Sl.No</th>\n",
       "      <th>Participant ID</th>\n",
       "      <th>Participant Name</th>\n",
       "      <th>Type</th>\n",
       "      <th>Payment Status</th>\n",
       "      <th>Mobile No</th>\n",
       "      <th>Email ID</th>\n",
       "    </tr>\n",
       "  </thead>\n",
       "  <tbody>\n",
       "    <tr>\n",
       "      <th>0</th>\n",
       "      <td>1</td>\n",
       "      <td>G18I6525</td>\n",
       "      <td>ISHAAN TIWARI</td>\n",
       "      <td>Internal</td>\n",
       "      <td>Success</td>\n",
       "      <td>8435045186</td>\n",
       "      <td>ishaan.tiwari2017@vitstudent.ac.in</td>\n",
       "    </tr>\n",
       "    <tr>\n",
       "      <th>1</th>\n",
       "      <td>2</td>\n",
       "      <td>G18I5267</td>\n",
       "      <td>ISHAN GUPTA</td>\n",
       "      <td>Internal</td>\n",
       "      <td>Success</td>\n",
       "      <td>9818304476</td>\n",
       "      <td>ishan.sunny2000@gmail.com</td>\n",
       "    </tr>\n",
       "    <tr>\n",
       "      <th>2</th>\n",
       "      <td>3</td>\n",
       "      <td>G18I4589</td>\n",
       "      <td>NISHITH SURANA</td>\n",
       "      <td>Internal</td>\n",
       "      <td>Success</td>\n",
       "      <td>9999790770</td>\n",
       "      <td>nsurana2607@gmail.com</td>\n",
       "    </tr>\n",
       "    <tr>\n",
       "      <th>3</th>\n",
       "      <td>4</td>\n",
       "      <td>G18I0296</td>\n",
       "      <td>RISHABH JAIN</td>\n",
       "      <td>Internal</td>\n",
       "      <td>Success</td>\n",
       "      <td>9717112689</td>\n",
       "      <td>rishabh.jain2018@vitstudent.ac.in</td>\n",
       "    </tr>\n",
       "    <tr>\n",
       "      <th>4</th>\n",
       "      <td>5</td>\n",
       "      <td>G18I1354</td>\n",
       "      <td>HARIHARAN</td>\n",
       "      <td>Internal</td>\n",
       "      <td>Success</td>\n",
       "      <td>9487984214</td>\n",
       "      <td>hariharanr.s2018@vitstudent.ac.in</td>\n",
       "    </tr>\n",
       "  </tbody>\n",
       "</table>\n",
       "</div>"
      ],
      "text/plain": [
       "   Sl.No Participant ID Participant Name      Type Payment Status   Mobile No  \\\n",
       "0      1       G18I6525    ISHAAN TIWARI  Internal        Success  8435045186   \n",
       "1      2       G18I5267      ISHAN GUPTA  Internal        Success  9818304476   \n",
       "2      3       G18I4589   NISHITH SURANA  Internal        Success  9999790770   \n",
       "3      4       G18I0296     RISHABH JAIN  Internal        Success  9717112689   \n",
       "4      5       G18I1354        HARIHARAN  Internal        Success  9487984214   \n",
       "\n",
       "                              Email ID  \n",
       "0  ishaan.tiwari2017@vitstudent.ac.in   \n",
       "1           ishan.sunny2000@gmail.com   \n",
       "2               nsurana2607@gmail.com   \n",
       "3   rishabh.jain2018@vitstudent.ac.in   \n",
       "4   hariharanr.s2018@vitstudent.ac.in   "
      ]
     },
     "execution_count": 20,
     "metadata": {},
     "output_type": "execute_result"
    }
   ],
   "source": [
    "# Data\n",
    "\n",
    "dt.head()"
   ]
  },
  {
   "cell_type": "code",
   "execution_count": 21,
   "metadata": {},
   "outputs": [
    {
     "name": "stdout",
     "output_type": "stream",
     "text": [
      "Columns\n",
      "Index(['Sl.No', 'Participant ID', 'Participant Name', 'Type', 'Payment Status',\n",
      "       'Mobile No', 'Email ID'],\n",
      "      dtype='object')\n"
     ]
    }
   ],
   "source": [
    "# Description\n",
    "\n",
    "print('Columns')\n",
    "print(dt.columns)"
   ]
  },
  {
   "cell_type": "code",
   "execution_count": 22,
   "metadata": {},
   "outputs": [
    {
     "name": "stdout",
     "output_type": "stream",
     "text": [
      "Sl.No\n",
      "Unique value count:  1053\n"
     ]
    }
   ],
   "source": [
    "# Column - Sl.No\n",
    "\n",
    "print('Sl.No')\n",
    "print('Unique value count: ', dt['Sl.No'].nunique())"
   ]
  },
  {
   "cell_type": "code",
   "execution_count": 23,
   "metadata": {},
   "outputs": [
    {
     "name": "stdout",
     "output_type": "stream",
     "text": [
      "Participant ID\n",
      "Unique value count:  1053\n"
     ]
    }
   ],
   "source": [
    "# Column - Participant ID\n",
    "\n",
    "print('Participant ID')\n",
    "print('Unique value count: ', dt['Participant ID'].nunique())"
   ]
  },
  {
   "cell_type": "code",
   "execution_count": 24,
   "metadata": {},
   "outputs": [
    {
     "name": "stdout",
     "output_type": "stream",
     "text": [
      "Participant Name\n",
      "Unique value count:  1034\n"
     ]
    }
   ],
   "source": [
    "# Column - Participant Name\n",
    "\n",
    "print('Participant Name')\n",
    "print('Unique value count: ', dt['Participant Name'].nunique())\n",
    "\n",
    "# Print common names"
   ]
  },
  {
   "cell_type": "code",
   "execution_count": 25,
   "metadata": {},
   "outputs": [
    {
     "name": "stdout",
     "output_type": "stream",
     "text": [
      "Type\n",
      "Unique value count:  2\n",
      "Unique values:  ['Internal' 'External']\n"
     ]
    }
   ],
   "source": [
    "# Column - Type\n",
    "\n",
    "print('Type')\n",
    "print('Unique value count: ', dt['Type'].nunique())\n",
    "print('Unique values: ', dt['Type'].unique())"
   ]
  },
  {
   "cell_type": "code",
   "execution_count": 26,
   "metadata": {},
   "outputs": [
    {
     "name": "stdout",
     "output_type": "stream",
     "text": [
      "Paymnet Status\n",
      "Unique value count:  2\n",
      "Unique values:  ['Success' 'Pending']\n"
     ]
    }
   ],
   "source": [
    "# Column - Payment Status\n",
    "\n",
    "print('Paymnet Status')\n",
    "print('Unique value count: ', dt['Payment Status'].nunique())\n",
    "print('Unique values: ', dt['Payment Status'].unique())"
   ]
  },
  {
   "cell_type": "code",
   "execution_count": 27,
   "metadata": {},
   "outputs": [
    {
     "name": "stdout",
     "output_type": "stream",
     "text": [
      "Mobile No\n",
      "Unique value count:  1053\n"
     ]
    }
   ],
   "source": [
    "# Column - Mobile number\n",
    "\n",
    "print('Mobile No')\n",
    "print('Unique value count: ', dt['Mobile No'].nunique())"
   ]
  },
  {
   "cell_type": "code",
   "execution_count": 28,
   "metadata": {},
   "outputs": [
    {
     "name": "stdout",
     "output_type": "stream",
     "text": [
      "Email ID\n",
      "Unique value count:  1053\n"
     ]
    }
   ],
   "source": [
    "# Column - Email ID\n",
    "\n",
    "print('Email ID')\n",
    "print('Unique value count: ', dt['Email ID'].nunique())"
   ]
  },
  {
   "cell_type": "code",
   "execution_count": 29,
   "metadata": {},
   "outputs": [
    {
     "name": "stdout",
     "output_type": "stream",
     "text": [
      "Internal vs External\n",
      "Counter({'Internal': 1016, 'External': 37})\n"
     ]
    }
   ],
   "source": [
    "# Column - Type\n",
    "\n",
    "print('Internal vs External')\n",
    "pprint(Counter(dt['Type']))"
   ]
  },
  {
   "cell_type": "code",
   "execution_count": 30,
   "metadata": {},
   "outputs": [
    {
     "data": {
      "text/plain": [
       "<matplotlib.axes._subplots.AxesSubplot at 0x7f694a623d68>"
      ]
     },
     "execution_count": 30,
     "metadata": {},
     "output_type": "execute_result"
    },
    {
     "data": {
      "image/png": "[encoded data removed]",
      "text/plain": [
       "<Figure size 432x288 with 1 Axes>"
      ]
     },
     "metadata": {},
     "output_type": "display_data"
    }
   ],
   "source": [
    "# Type plot\n",
    "# Internal vs External\n",
    "\n",
    "sns.countplot(dt['Type'], alpha=0.75)"
   ]
  },
  {
   "cell_type": "code",
   "execution_count": 31,
   "metadata": {},
   "outputs": [
    {
     "name": "stdout",
     "output_type": "stream",
     "text": [
      "Success vs Pending\n",
      "Counter({'Success': 969, 'Pending': 84})\n"
     ]
    }
   ],
   "source": [
    "# Column - Payment Status\n",
    "\n",
    "print('Success vs Pending')\n",
    "pprint(Counter(dt['Payment Status']))"
   ]
  },
  {
   "cell_type": "code",
   "execution_count": 32,
   "metadata": {},
   "outputs": [
    {
     "data": {
      "text/plain": [
       "<matplotlib.axes._subplots.AxesSubplot at 0x7f694a59cd68>"
      ]
     },
     "execution_count": 32,
     "metadata": {},
     "output_type": "execute_result"
    },
    {
     "data": {
      "image/png": "[encoded data removed]",
      "text/plain": [
       "<Figure size 432x288 with 1 Axes>"
      ]
     },
     "metadata": {},
     "output_type": "display_data"
    }
   ],
   "source": [
    "# Payment Status plot\n",
    "# Success vs Pending\n",
    "\n",
    "sns.countplot(dt['Payment Status'], alpha=0.75)"
   ]
  },
  {
   "cell_type": "code",
   "execution_count": 33,
   "metadata": {},
   "outputs": [
    {
     "data": {
      "text/plain": [
       "<matplotlib.legend.Legend at 0x7f694a576320>"
      ]
     },
     "execution_count": 33,
     "metadata": {},
     "output_type": "execute_result"
    },
    {
     "data": {
      "image/png": "[encoded data removed]",
      "text/plain": [
       "<Figure size 432x288 with 1 Axes>"
      ]
     },
     "metadata": {},
     "output_type": "display_data"
    }
   ],
   "source": [
    "# Internal vs External - Payment Status\n",
    "\n",
    "data_internal = dt['Payment Status'][dt['Type'] == 'Internal'].value_counts().sort_index()\n",
    "data_external = dt['Payment Status'][dt['Type'] == 'External'].value_counts().sort_index()\n",
    "\n",
    "data_internal.plot(kind='bar', label='Internal', color='y', alpha=0.5)\n",
    "data_external.plot(kind='bar', label='External', color='b', alpha=0.5)\n",
    "plt.title('Internal vs External - Payment Status')\n",
    "plt.legend(loc='best')"
   ]
  },
  {
   "cell_type": "code",
   "execution_count": 34,
   "metadata": {},
   "outputs": [
    {
     "data": {
      "text/plain": [
       "<matplotlib.legend.Legend at 0x7f694a4d0908>"
      ]
     },
     "execution_count": 34,
     "metadata": {},
     "output_type": "execute_result"
    },
    {
     "data": {
      "image/png": "[encoded data removed]",
      "text/plain": [
       "<Figure size 432x288 with 1 Axes>"
      ]
     },
     "metadata": {},
     "output_type": "display_data"
    }
   ],
   "source": [
    "# Success vs Pending - Type\n",
    "\n",
    "data_success = dt['Type'][dt['Payment Status'] == 'Success'].value_counts().sort_index()\n",
    "data_pending = dt['Type'][dt['Payment Status'] == 'Pending'].value_counts().sort_index()\n",
    "\n",
    "data_success.plot(kind='bar', label='Success', color='g', alpha=0.5)\n",
    "data_pending.plot(kind='bar', label='Pending', color='r', alpha=0.9)\n",
    "plt.title('Success vs Pending - Type')\n",
    "plt.legend(loc='best')"
   ]
  },
  {
   "cell_type": "code",
   "execution_count": 35,
   "metadata": {},
   "outputs": [
    {
     "name": "stdout",
     "output_type": "stream",
     "text": [
      "Devfest participants count:  405\n",
      "DevTalks participants count:  953\n",
      "Devfest and Devtalks participants:  223\n"
     ]
    }
   ],
   "source": [
    "# Devfest and DevTalks participants\n",
    "\n",
    "df_participants = df['Participant Name'][df['Payment Status'] == 'Success'].values\n",
    "dt_participants = dt['Participant Name'][dt['Payment Status'] == 'Success'].values\n",
    "\n",
    "print('Devfest participants count: ', len(set(df_participants)))\n",
    "print('DevTalks participants count: ', len(set(dt_participants)))\n",
    "\n",
    "print('Devfest and Devtalks participants: ', len(set(df_participants).intersection(set(dt_participants))))"
   ]
  },
  {
   "cell_type": "code",
   "execution_count": 36,
   "metadata": {},
   "outputs": [
    {
     "data": {
      "image/png": "[encoded data removed]",
      "text/plain": [
       "<Figure size 432x288 with 1 Axes>"
      ]
     },
     "metadata": {},
     "output_type": "display_data"
    }
   ],
   "source": [
    "# Venn diagram representation\n",
    "\n",
    "venn2(\n",
    "    [set(df_participants), set(dt_participants)],\n",
    "    set_labels=('Devfest', 'DevTalks')\n",
    ")\n",
    "plt.title('Participants Venn Diagram')\n",
    "plt.show()"
   ]
  },
  {
   "cell_type": "code",
   "execution_count": null,
   "metadata": {},
   "outputs": [],
   "source": []
  }
 ],
 "metadata": {
  "kernelspec": {
   "display_name": "Python 3",
   "language": "python",
   "name": "python3"
  },
  "language_info": {
   "codemirror_mode": {
    "name": "ipython",
    "version": 3
   },
   "file_extension": ".py",
   "mimetype": "text/x-python",
   "name": "python",
   "nbconvert_exporter": "python",
   "pygments_lexer": "ipython3",
   "version": "3.6.5"
  }
 },
 "nbformat": 4,
 "nbformat_minor": 2
}
