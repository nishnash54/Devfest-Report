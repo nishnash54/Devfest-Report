{
 "cells": [
  {
   "cell_type": "code",
   "execution_count": 1,
   "metadata": {},
   "outputs": [],
   "source": [
    "# Libraries\n",
    "\n",
    "import os\n",
    "\n",
    "import numpy as np\n",
    "import pandas as pd\n",
    "\n",
    "import matplotlib.pyplot as plt\n",
    "import seaborn as sns\n",
    "\n",
    "from datetime import datetime\n",
    "from matplotlib_venn import venn2\n",
    "from collections import Counter\n",
    "from pprint import pprint\n",
    "\n",
    "%matplotlib inline"
   ]
  },
  {
   "cell_type": "code",
   "execution_count": 2,
   "metadata": {},
   "outputs": [
    {
     "name": "stdout",
     "output_type": "stream",
     "text": [
      "['devfest-registered.xlsx', 'devfest.csv', 'devtalks.csv', 'devfest-teams.xlsx']\n"
     ]
    }
   ],
   "source": [
    "# Dataset\n",
    "\n",
    "print(os.listdir('./dataset'))"
   ]
  },
  {
   "cell_type": "markdown",
   "metadata": {},
   "source": [
    "## Registered individuals\n",
    "----"
   ]
  },
  {
   "cell_type": "code",
   "execution_count": 3,
   "metadata": {},
   "outputs": [
    {
     "name": "stdout",
     "output_type": "stream",
     "text": [
      "Individuals\n",
      "Shape:  (487, 10)\n"
     ]
    }
   ],
   "source": [
    "# Registered users dataset\n",
    "\n",
    "ind = pd.read_excel('./dataset/devfest-registered.xlsx', dtype=object)\n",
    "\n",
    "print('Individuals')\n",
    "print('Shape: ', ind.shape)"
   ]
  },
  {
   "cell_type": "code",
   "execution_count": 4,
   "metadata": {},
   "outputs": [
    {
     "data": {
      "text/html": [
       "<div>\n",
       "<style scoped>\n",
       "    .dataframe tbody tr th:only-of-type {\n",
       "        vertical-align: middle;\n",
       "    }\n",
       "\n",
       "    .dataframe tbody tr th {\n",
       "        vertical-align: top;\n",
       "    }\n",
       "\n",
       "    .dataframe thead th {\n",
       "        text-align: right;\n",
       "    }\n",
       "</style>\n",
       "<table border=\"1\" class=\"dataframe\">\n",
       "  <thead>\n",
       "    <tr style=\"text-align: right;\">\n",
       "      <th></th>\n",
       "      <th>Name</th>\n",
       "      <th>Email</th>\n",
       "      <th>Registered At</th>\n",
       "      <th>City</th>\n",
       "      <th>Graduation Year</th>\n",
       "      <th>College</th>\n",
       "      <th>Resume</th>\n",
       "      <th>Gender</th>\n",
       "      <th>Phone Number</th>\n",
       "      <th>Stream</th>\n",
       "    </tr>\n",
       "  </thead>\n",
       "  <tbody>\n",
       "    <tr>\n",
       "      <th>0</th>\n",
       "      <td>Meher</td>\n",
       "      <td>meherdeept@gmail.com</td>\n",
       "      <td>Sep 04, 2018 03:24 PM IST</td>\n",
       "      <td>L666</td>\n",
       "      <td>2020</td>\n",
       "      <td>Vellore Institute of Technology - Vellore</td>\n",
       "      <td>NaN</td>\n",
       "      <td>Male</td>\n",
       "      <td>917299430575</td>\n",
       "      <td>CSE</td>\n",
       "    </tr>\n",
       "    <tr>\n",
       "      <th>1</th>\n",
       "      <td>Dhruv</td>\n",
       "      <td>mittaldhruv29@gmail.com</td>\n",
       "      <td>Sep 04, 2018 05:53 PM IST</td>\n",
       "      <td>vellore</td>\n",
       "      <td>2021</td>\n",
       "      <td>Vellore Institute of Technology - Vellore</td>\n",
       "      <td>NaN</td>\n",
       "      <td>Male</td>\n",
       "      <td>+919111883363</td>\n",
       "      <td>CSE</td>\n",
       "    </tr>\n",
       "    <tr>\n",
       "      <th>2</th>\n",
       "      <td>Ayush Verma</td>\n",
       "      <td>vermaayush.verma76@gmail.com</td>\n",
       "      <td>Sep 04, 2018 10:18 PM IST</td>\n",
       "      <td>Vellore, Tamil Nadu, India</td>\n",
       "      <td>2020</td>\n",
       "      <td>Vellore Institute of Technology - Vellore</td>\n",
       "      <td>https://files.hackerearth.com/d3J4UzB2UHZ2aGxN...</td>\n",
       "      <td>Male</td>\n",
       "      <td>917010725407</td>\n",
       "      <td>Computer science and technology</td>\n",
       "    </tr>\n",
       "  </tbody>\n",
       "</table>\n",
       "</div>"
      ],
      "text/plain": [
       "          Name                         Email              Registered At  \\\n",
       "0        Meher          meherdeept@gmail.com  Sep 04, 2018 03:24 PM IST   \n",
       "1        Dhruv       mittaldhruv29@gmail.com  Sep 04, 2018 05:53 PM IST   \n",
       "2  Ayush Verma  vermaayush.verma76@gmail.com  Sep 04, 2018 10:18 PM IST   \n",
       "\n",
       "                         City Graduation Year  \\\n",
       "0                        L666            2020   \n",
       "1                     vellore            2021   \n",
       "2  Vellore, Tamil Nadu, India            2020   \n",
       "\n",
       "                                     College  \\\n",
       "0  Vellore Institute of Technology - Vellore   \n",
       "1  Vellore Institute of Technology - Vellore   \n",
       "2  Vellore Institute of Technology - Vellore   \n",
       "\n",
       "                                              Resume Gender   Phone Number  \\\n",
       "0                                                NaN   Male   917299430575   \n",
       "1                                                NaN   Male  +919111883363   \n",
       "2  https://files.hackerearth.com/d3J4UzB2UHZ2aGxN...   Male   917010725407   \n",
       "\n",
       "                            Stream  \n",
       "0                              CSE  \n",
       "1                              CSE  \n",
       "2  Computer science and technology  "
      ]
     },
     "execution_count": 4,
     "metadata": {},
     "output_type": "execute_result"
    }
   ],
   "source": [
    "# Data head\n",
    "\n",
    "ind.head(3)"
   ]
  },
  {
   "cell_type": "code",
   "execution_count": 5,
   "metadata": {},
   "outputs": [
    {
     "name": "stdout",
     "output_type": "stream",
     "text": [
      "Columns\n",
      "Index(['Name', 'Email', 'Registered At', 'City', 'Graduation Year', 'College',\n",
      "       'Resume', 'Gender', 'Phone Number', 'Stream'],\n",
      "      dtype='object')\n"
     ]
    }
   ],
   "source": [
    "# Description\n",
    "\n",
    "print('Columns')\n",
    "print(ind.columns)"
   ]
  },
  {
   "cell_type": "code",
   "execution_count": 6,
   "metadata": {},
   "outputs": [
    {
     "name": "stdout",
     "output_type": "stream",
     "text": [
      "Name\n",
      "Unique value count:  473\n"
     ]
    }
   ],
   "source": [
    "# Column - Name\n",
    "\n",
    "print('Name')\n",
    "print('Unique value count: ', ind['Name'].nunique())"
   ]
  },
  {
   "cell_type": "code",
   "execution_count": 7,
   "metadata": {},
   "outputs": [
    {
     "name": "stdout",
     "output_type": "stream",
     "text": [
      "Email\n",
      "Unique value count:  487\n"
     ]
    }
   ],
   "source": [
    "# Column - Email\n",
    "\n",
    "print('Email')\n",
    "print('Unique value count: ', ind['Email'].nunique())"
   ]
  },
  {
   "cell_type": "code",
   "execution_count": 8,
   "metadata": {},
   "outputs": [
    {
     "name": "stdout",
     "output_type": "stream",
     "text": [
      "City\n",
      "Unique value count:  117\n"
     ]
    }
   ],
   "source": [
    "# Column - City\n",
    "\n",
    "print('City')\n",
    "print('Unique value count: ', ind['City'].nunique())"
   ]
  },
  {
   "cell_type": "code",
   "execution_count": 9,
   "metadata": {},
   "outputs": [
    {
     "name": "stdout",
     "output_type": "stream",
     "text": [
      "Graduation Year\n",
      "Unique value count:  12\n",
      "Counter({'2020': 204,\n",
      "         '2021': 153,\n",
      "         '2022': 47,\n",
      "         '2019': 34,\n",
      "         nan: 25,\n",
      "         '2018': 6,\n",
      "         '2016': 6,\n",
      "         '2017': 5,\n",
      "         '2013': 2,\n",
      "         '2023': 2,\n",
      "         '1987': 1,\n",
      "         '2002': 1,\n",
      "         '2015': 1})\n"
     ]
    }
   ],
   "source": [
    "# Column - Graduation year\n",
    "\n",
    "print('Graduation Year')\n",
    "print('Unique value count: ', ind['Graduation Year'].nunique())\n",
    "pprint(Counter(ind['Graduation Year']))"
   ]
  },
  {
   "cell_type": "code",
   "execution_count": 10,
   "metadata": {},
   "outputs": [
    {
     "data": {
      "text/plain": [
       "<matplotlib.axes._subplots.AxesSubplot at 0x7fae16ddf390>"
      ]
     },
     "execution_count": 10,
     "metadata": {},
     "output_type": "execute_result"
    },
    {
     "data": {
      "image/png": "[encoded data removed]",
      "text/plain": [
       "<Figure size 432x288 with 1 Axes>"
      ]
     },
     "metadata": {},
     "output_type": "display_data"
    }
   ],
   "source": [
    "# Graduation Year plot\n",
    "# Countplot\n",
    "\n",
    "gyear = ind['Graduation Year'].copy()\n",
    "gyear = gyear.fillna('Missing').sort_values(ascending=True)\n",
    "\n",
    "sns.countplot(gyear)"
   ]
  },
  {
   "cell_type": "code",
   "execution_count": 11,
   "metadata": {},
   "outputs": [
    {
     "name": "stdout",
     "output_type": "stream",
     "text": [
      "College\n",
      "Unique value count:  82\n"
     ]
    }
   ],
   "source": [
    "# Column - College\n",
    "\n",
    "print('College')\n",
    "print('Unique value count: ', ind['College'].nunique())"
   ]
  },
  {
   "cell_type": "code",
   "execution_count": 12,
   "metadata": {},
   "outputs": [
    {
     "name": "stdout",
     "output_type": "stream",
     "text": [
      "Resume\n",
      "Uploaded resume count:  88\n",
      "18.069815195071868 % of the individuals uploaded a resume\n"
     ]
    }
   ],
   "source": [
    "# Column - Resume\n",
    "\n",
    "print('Resume')\n",
    "print('Uploaded resume count: ', ind.shape[0] - ind['Resume'].isna().sum())\n",
    "print((ind.shape[0] - ind['Resume'].isna().sum())/ind.shape[0] * 100, '% of the individuals uploaded a resume' )"
   ]
  },
  {
   "cell_type": "code",
   "execution_count": 13,
   "metadata": {},
   "outputs": [
    {
     "name": "stdout",
     "output_type": "stream",
     "text": [
      "Gender\n",
      "Unique value count:  2\n",
      "Counter({'Male': 422, 'Female': 34, nan: 31})\n"
     ]
    }
   ],
   "source": [
    "# Column - Gender\n",
    "\n",
    "print('Gender')\n",
    "print('Unique value count: ', ind['Gender'].nunique())\n",
    "pprint(Counter(ind['Gender']))"
   ]
  },
  {
   "cell_type": "code",
   "execution_count": 14,
   "metadata": {},
   "outputs": [
    {
     "data": {
      "text/plain": [
       "<matplotlib.axes._subplots.AxesSubplot at 0x7fae1325e198>"
      ]
     },
     "execution_count": 14,
     "metadata": {},
     "output_type": "execute_result"
    },
    {
     "data": {
      "image/png": "[encoded data removed]",
      "text/plain": [
       "<Figure size 432x288 with 1 Axes>"
      ]
     },
     "metadata": {},
     "output_type": "display_data"
    }
   ],
   "source": [
    "# Gender type plot\n",
    "# Countplot\n",
    "\n",
    "gen = ind['Gender'].copy()\n",
    "gen = gen.fillna('Missing')\n",
    "sns.countplot(gen)"
   ]
  },
  {
   "cell_type": "code",
   "execution_count": 15,
   "metadata": {},
   "outputs": [
    {
     "name": "stdout",
     "output_type": "stream",
     "text": [
      "Phone Number\n",
      "Unique value count:  446\n"
     ]
    }
   ],
   "source": [
    "# Column - Phone Number\n",
    "\n",
    "print('Phone Number')\n",
    "print('Unique value count: ', ind['Phone Number'].nunique())"
   ]
  },
  {
   "cell_type": "code",
   "execution_count": 16,
   "metadata": {},
   "outputs": [
    {
     "name": "stdout",
     "output_type": "stream",
     "text": [
      "Stream\n",
      "Unique value count:  83\n"
     ]
    }
   ],
   "source": [
    "# Column - Stream\n",
    "\n",
    "print('Stream')\n",
    "print('Unique value count: ', ind['Stream'].nunique())"
   ]
  },
  {
   "cell_type": "code",
   "execution_count": 17,
   "metadata": {},
   "outputs": [
    {
     "name": "stdout",
     "output_type": "stream",
     "text": [
      "Registered At\n",
      "Unique value count:  460\n"
     ]
    }
   ],
   "source": [
    "# Column - Registered At\n",
    "\n",
    "print('Registered At')\n",
    "print('Unique value count: ', ind['Registered At'].nunique())"
   ]
  },
  {
   "cell_type": "code",
   "execution_count": 18,
   "metadata": {},
   "outputs": [],
   "source": [
    "# Convert str to datetime\n",
    "# Parameters: \n",
    "# data - String data format\n",
    "# Return:\n",
    "# datetime object\n",
    "\n",
    "def convert_to_datetime(data):\n",
    "    return datetime.strptime(data[:-4], '%b %d, %Y %I:%M %p')"
   ]
  },
  {
   "cell_type": "code",
   "execution_count": 19,
   "metadata": {},
   "outputs": [
    {
     "name": "stdout",
     "output_type": "stream",
     "text": [
      "Type of Registered At:  <class 'str'>\n",
      "Sample:  Sep 04, 2018 03:24 PM IST\n",
      "\n",
      "Converting...\n",
      "\n",
      "Type of Registered At:  <class 'pandas._libs.tslibs.timestamps.Timestamp'>\n",
      "Sample:  2018-09-04 15:24:00\n"
     ]
    }
   ],
   "source": [
    "# Type conversion to datatime\n",
    "\n",
    "print('Type of Registered At: ', type(ind['Registered At'][0]))\n",
    "print('Sample: ', ind['Registered At'][0])\n",
    "\n",
    "print('\\nConverting...\\n')\n",
    "ind['Registered At'] = ind['Registered At'].apply(convert_to_datetime)\n",
    "\n",
    "print('Type of Registered At: ', type(ind['Registered At'][0]))\n",
    "print('Sample: ', ind['Registered At'][0])"
   ]
  },
  {
   "cell_type": "code",
   "execution_count": 20,
   "metadata": {},
   "outputs": [
    {
     "name": "stdout",
     "output_type": "stream",
     "text": [
      "Start date:  2018-09-04 15:24:00\n",
      "End date:  2018-10-01 23:30:00\n"
     ]
    }
   ],
   "source": [
    "# Date analysis\n",
    "\n",
    "print('Start date: ', ind['Registered At'].min())\n",
    "print('End date: ', ind['Registered At'].max())"
   ]
  },
  {
   "cell_type": "code",
   "execution_count": null,
   "metadata": {},
   "outputs": [],
   "source": []
  }
 ],
 "metadata": {
  "kernelspec": {
   "display_name": "Python 3",
   "language": "python",
   "name": "python3"
  },
  "language_info": {
   "codemirror_mode": {
    "name": "ipython",
    "version": 3
   },
   "file_extension": ".py",
   "mimetype": "text/x-python",
   "name": "python",
   "nbconvert_exporter": "python",
   "pygments_lexer": "ipython3",
   "version": "3.6.5"
  }
 },
 "nbformat": 4,
 "nbformat_minor": 2
}
