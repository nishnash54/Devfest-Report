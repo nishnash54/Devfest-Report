{
 "cells": [
  {
   "cell_type": "code",
   "execution_count": 1,
   "metadata": {},
   "outputs": [],
   "source": [
    "# Libraries\n",
    "\n",
    "import os\n",
    "\n",
    "import numpy as np\n",
    "import pandas as pd\n",
    "\n",
    "import matplotlib.pyplot as plt\n",
    "import seaborn as sns\n",
    "\n",
    "from datetime import datetime\n",
    "from matplotlib_venn import venn2\n",
    "from collections import Counter\n",
    "from pprint import pprint\n",
    "\n",
    "%matplotlib inline"
   ]
  },
  {
   "cell_type": "code",
   "execution_count": 2,
   "metadata": {},
   "outputs": [
    {
     "name": "stdout",
     "output_type": "stream",
     "text": [
      "['campaign_data.csv', 'mongo_to_csv.py', '__pycache__', 'campaign_descirbe.md', 'devfest-registered.xlsx', 'devtalks_describe.md', 'registrations_describe.md', 'devfest.csv', 'devfest_describe.md', 'teams_describe.md', 'devtalks.csv', 'credentials.py', 'devfest-teams.xlsx']\n"
     ]
    }
   ],
   "source": [
    "# Dataset\n",
    "\n",
    "print(os.listdir('./dataset'))"
   ]
  },
  {
   "cell_type": "code",
   "execution_count": 3,
   "metadata": {},
   "outputs": [
    {
     "name": "stdout",
     "output_type": "stream",
     "text": [
      "Campaign\n",
      "Shape:  (295, 18)\n"
     ]
    }
   ],
   "source": [
    "# Campaign dataset\n",
    "\n",
    "df = pd.read_csv('./dataset/campaign_data.csv')\n",
    "\n",
    "print('Campaign')\n",
    "print('Shape: ', df.shape)"
   ]
  },
  {
   "cell_type": "code",
   "execution_count": 4,
   "metadata": {},
   "outputs": [
    {
     "data": {
      "text/html": [
       "<div>\n",
       "<style scoped>\n",
       "    .dataframe tbody tr th:only-of-type {\n",
       "        vertical-align: middle;\n",
       "    }\n",
       "\n",
       "    .dataframe tbody tr th {\n",
       "        vertical-align: top;\n",
       "    }\n",
       "\n",
       "    .dataframe thead th {\n",
       "        text-align: right;\n",
       "    }\n",
       "</style>\n",
       "<table border=\"1\" class=\"dataframe\">\n",
       "  <thead>\n",
       "    <tr style=\"text-align: right;\">\n",
       "      <th></th>\n",
       "      <th>fest_id</th>\n",
       "      <th>campaign_id</th>\n",
       "      <th>source</th>\n",
       "      <th>ip</th>\n",
       "      <th>city</th>\n",
       "      <th>country</th>\n",
       "      <th>countryCode</th>\n",
       "      <th>isp</th>\n",
       "      <th>lat</th>\n",
       "      <th>lon</th>\n",
       "      <th>org</th>\n",
       "      <th>query</th>\n",
       "      <th>region</th>\n",
       "      <th>regionName</th>\n",
       "      <th>status</th>\n",
       "      <th>timezone</th>\n",
       "      <th>zip</th>\n",
       "      <th>timestamp</th>\n",
       "    </tr>\n",
       "  </thead>\n",
       "  <tbody>\n",
       "    <tr>\n",
       "      <th>0</th>\n",
       "      <td>0Zrk29JSlVqjkHeai0Hk</td>\n",
       "      <td>a54aaf0d-8b4e-41a1-8a8e-0ff3f7cca2e2</td>\n",
       "      <td>whatsapp</td>\n",
       "      <td>115.249.106.164</td>\n",
       "      <td>Vellore</td>\n",
       "      <td>India</td>\n",
       "      <td>IN</td>\n",
       "      <td>Reliance Communications</td>\n",
       "      <td>12.9333</td>\n",
       "      <td>79.1333</td>\n",
       "      <td>Reliance Communications</td>\n",
       "      <td>115.249.106.164</td>\n",
       "      <td>TN</td>\n",
       "      <td>Tamil Nadu</td>\n",
       "      <td>success</td>\n",
       "      <td>Asia/Kolkata</td>\n",
       "      <td>632014</td>\n",
       "      <td>2018-09-12 10:16:17</td>\n",
       "    </tr>\n",
       "    <tr>\n",
       "      <th>1</th>\n",
       "      <td>4X6wBWASnaFBtGj9LQoS</td>\n",
       "      <td>80692e9c-2c39-4c7e-97d4-a2060333ff17</td>\n",
       "      <td>Facebook</td>\n",
       "      <td>106.203.21.154</td>\n",
       "      <td>Chennai</td>\n",
       "      <td>India</td>\n",
       "      <td>IN</td>\n",
       "      <td>Bharti Airtel</td>\n",
       "      <td>13.0833</td>\n",
       "      <td>80.2833</td>\n",
       "      <td>Bharti Airtel</td>\n",
       "      <td>106.203.21.154</td>\n",
       "      <td>TN</td>\n",
       "      <td>Tamil Nadu</td>\n",
       "      <td>success</td>\n",
       "      <td>Asia/Kolkata</td>\n",
       "      <td>600001</td>\n",
       "      <td>2018-09-12 10:34:36</td>\n",
       "    </tr>\n",
       "    <tr>\n",
       "      <th>2</th>\n",
       "      <td>UItdaK1sPQXSOA7BwjC0</td>\n",
       "      <td>1cc44a4d-40c4-4b53-abce-0ff105405905</td>\n",
       "      <td>Email</td>\n",
       "      <td>115.249.106.164</td>\n",
       "      <td>Vellore</td>\n",
       "      <td>India</td>\n",
       "      <td>IN</td>\n",
       "      <td>Reliance Communications</td>\n",
       "      <td>12.9333</td>\n",
       "      <td>79.1333</td>\n",
       "      <td>Reliance Communications</td>\n",
       "      <td>115.249.106.164</td>\n",
       "      <td>TN</td>\n",
       "      <td>Tamil Nadu</td>\n",
       "      <td>success</td>\n",
       "      <td>Asia/Kolkata</td>\n",
       "      <td>632014</td>\n",
       "      <td>2018-09-12 23:19:43</td>\n",
       "    </tr>\n",
       "    <tr>\n",
       "      <th>3</th>\n",
       "      <td>UItdaK1sPQXSOA7BwjC0</td>\n",
       "      <td>1cc44a4d-40c4-4b53-abce-0ff105405905</td>\n",
       "      <td>Email</td>\n",
       "      <td>115.249.106.164</td>\n",
       "      <td>Vellore</td>\n",
       "      <td>India</td>\n",
       "      <td>IN</td>\n",
       "      <td>Reliance Communications</td>\n",
       "      <td>12.9333</td>\n",
       "      <td>79.1333</td>\n",
       "      <td>Reliance Communications</td>\n",
       "      <td>115.249.106.164</td>\n",
       "      <td>TN</td>\n",
       "      <td>Tamil Nadu</td>\n",
       "      <td>success</td>\n",
       "      <td>Asia/Kolkata</td>\n",
       "      <td>632014</td>\n",
       "      <td>2018-09-12 23:19:55</td>\n",
       "    </tr>\n",
       "    <tr>\n",
       "      <th>4</th>\n",
       "      <td>UItdaK1sPQXSOA7BwjC0</td>\n",
       "      <td>1cc44a4d-40c4-4b53-abce-0ff105405905</td>\n",
       "      <td>Email</td>\n",
       "      <td>157.51.135.128</td>\n",
       "      <td>Chennai</td>\n",
       "      <td>India</td>\n",
       "      <td>IN</td>\n",
       "      <td>Jio</td>\n",
       "      <td>13.0833</td>\n",
       "      <td>80.2833</td>\n",
       "      <td>Jio</td>\n",
       "      <td>157.51.135.128</td>\n",
       "      <td>TN</td>\n",
       "      <td>Tamil Nadu</td>\n",
       "      <td>success</td>\n",
       "      <td>Asia/Kolkata</td>\n",
       "      <td>600001</td>\n",
       "      <td>2018-09-12 23:24:34</td>\n",
       "    </tr>\n",
       "  </tbody>\n",
       "</table>\n",
       "</div>"
      ],
      "text/plain": [
       "                fest_id                           campaign_id    source  \\\n",
       "0  0Zrk29JSlVqjkHeai0Hk  a54aaf0d-8b4e-41a1-8a8e-0ff3f7cca2e2  whatsapp   \n",
       "1  4X6wBWASnaFBtGj9LQoS  80692e9c-2c39-4c7e-97d4-a2060333ff17  Facebook   \n",
       "2  UItdaK1sPQXSOA7BwjC0  1cc44a4d-40c4-4b53-abce-0ff105405905     Email   \n",
       "3  UItdaK1sPQXSOA7BwjC0  1cc44a4d-40c4-4b53-abce-0ff105405905     Email   \n",
       "4  UItdaK1sPQXSOA7BwjC0  1cc44a4d-40c4-4b53-abce-0ff105405905     Email   \n",
       "\n",
       "                ip     city country countryCode                      isp  \\\n",
       "0  115.249.106.164  Vellore   India          IN  Reliance Communications   \n",
       "1   106.203.21.154  Chennai   India          IN            Bharti Airtel   \n",
       "2  115.249.106.164  Vellore   India          IN  Reliance Communications   \n",
       "3  115.249.106.164  Vellore   India          IN  Reliance Communications   \n",
       "4   157.51.135.128  Chennai   India          IN                      Jio   \n",
       "\n",
       "       lat      lon                      org            query region  \\\n",
       "0  12.9333  79.1333  Reliance Communications  115.249.106.164     TN   \n",
       "1  13.0833  80.2833            Bharti Airtel   106.203.21.154     TN   \n",
       "2  12.9333  79.1333  Reliance Communications  115.249.106.164     TN   \n",
       "3  12.9333  79.1333  Reliance Communications  115.249.106.164     TN   \n",
       "4  13.0833  80.2833                      Jio   157.51.135.128     TN   \n",
       "\n",
       "   regionName   status      timezone     zip            timestamp  \n",
       "0  Tamil Nadu  success  Asia/Kolkata  632014  2018-09-12 10:16:17  \n",
       "1  Tamil Nadu  success  Asia/Kolkata  600001  2018-09-12 10:34:36  \n",
       "2  Tamil Nadu  success  Asia/Kolkata  632014  2018-09-12 23:19:43  \n",
       "3  Tamil Nadu  success  Asia/Kolkata  632014  2018-09-12 23:19:55  \n",
       "4  Tamil Nadu  success  Asia/Kolkata  600001  2018-09-12 23:24:34  "
      ]
     },
     "execution_count": 4,
     "metadata": {},
     "output_type": "execute_result"
    }
   ],
   "source": [
    "# Data head\n",
    "\n",
    "df.head()"
   ]
  },
  {
   "cell_type": "code",
   "execution_count": 5,
   "metadata": {},
   "outputs": [
    {
     "name": "stdout",
     "output_type": "stream",
     "text": [
      "Columns\n",
      "Index(['fest_id', 'campaign_id', 'source', 'ip', 'city', 'country',\n",
      "       'countryCode', 'isp', 'lat', 'lon', 'org', 'query', 'region',\n",
      "       'regionName', 'status', 'timezone', 'zip', 'timestamp'],\n",
      "      dtype='object')\n"
     ]
    }
   ],
   "source": [
    "# Description\n",
    "\n",
    "print('Columns')\n",
    "print(df.columns)"
   ]
  },
  {
   "cell_type": "code",
   "execution_count": 6,
   "metadata": {},
   "outputs": [
    {
     "name": "stdout",
     "output_type": "stream",
     "text": [
      "fest_id\n",
      "Unique value count:  3\n",
      "Unique values:  ['0Zrk29JSlVqjkHeai0Hk' '4X6wBWASnaFBtGj9LQoS' 'UItdaK1sPQXSOA7BwjC0']\n"
     ]
    }
   ],
   "source": [
    "# Column - fest_id\n",
    "\n",
    "print('fest_id')\n",
    "print('Unique value count: ', df['fest_id'].nunique())\n",
    "print('Unique values: ', df['fest_id'].unique())"
   ]
  },
  {
   "cell_type": "code",
   "execution_count": 7,
   "metadata": {},
   "outputs": [
    {
     "name": "stdout",
     "output_type": "stream",
     "text": [
      "Counter({'UItdaK1sPQXSOA7BwjC0': 293,\n",
      "         '0Zrk29JSlVqjkHeai0Hk': 1,\n",
      "         '4X6wBWASnaFBtGj9LQoS': 1})\n"
     ]
    },
    {
     "data": {
      "image/png": "[encoded data removed]",
      "text/plain": [
       "<Figure size 432x288 with 1 Axes>"
      ]
     },
     "metadata": {},
     "output_type": "display_data"
    }
   ],
   "source": [
    "# Count plot - fest_id\n",
    "\n",
    "count = Counter(df['fest_id'])\n",
    "pprint(count)\n",
    "\n",
    "label = []\n",
    "size = []\n",
    "\n",
    "for lab in count.keys():\n",
    "    label.append(lab)\n",
    "    size.append(count[lab])\n",
    "\n",
    "plt.pie(size, labels=label)\n",
    "plt.show()"
   ]
  },
  {
   "cell_type": "code",
   "execution_count": 8,
   "metadata": {},
   "outputs": [
    {
     "name": "stdout",
     "output_type": "stream",
     "text": [
      "campaign_id\n",
      "Uniuqe value count:  4\n",
      "Unique values:  ['a54aaf0d-8b4e-41a1-8a8e-0ff3f7cca2e2'\n",
      " '80692e9c-2c39-4c7e-97d4-a2060333ff17'\n",
      " '1cc44a4d-40c4-4b53-abce-0ff105405905'\n",
      " 'a2e19bdc-73db-4dc9-899a-3bc5b86f4009']\n"
     ]
    }
   ],
   "source": [
    "# Column - campaign_id\n",
    "\n",
    "print('campaign_id')\n",
    "print('Uniuqe value count: ', df['campaign_id'].nunique())\n",
    "print('Unique values: ', df['campaign_id'].unique())"
   ]
  },
  {
   "cell_type": "code",
   "execution_count": 9,
   "metadata": {},
   "outputs": [
    {
     "name": "stdout",
     "output_type": "stream",
     "text": [
      "Counter({'1cc44a4d-40c4-4b53-abce-0ff105405905': 176,\n",
      "         'a2e19bdc-73db-4dc9-899a-3bc5b86f4009': 117,\n",
      "         'a54aaf0d-8b4e-41a1-8a8e-0ff3f7cca2e2': 1,\n",
      "         '80692e9c-2c39-4c7e-97d4-a2060333ff17': 1})\n"
     ]
    },
    {
     "data": {
      "image/png": "[encoded data removed]",
      "text/plain": [
       "<Figure size 432x288 with 1 Axes>"
      ]
     },
     "metadata": {},
     "output_type": "display_data"
    }
   ],
   "source": [
    "# Count plot - campaign_id\n",
    "\n",
    "count = Counter(df['campaign_id'])\n",
    "pprint(count)\n",
    "\n",
    "sns.countplot(df['campaign_id'])\n",
    "plt.show()"
   ]
  },
  {
   "cell_type": "code",
   "execution_count": 10,
   "metadata": {},
   "outputs": [
    {
     "name": "stdout",
     "output_type": "stream",
     "text": [
      "source\n",
      "Unique value count:  4\n",
      "Unique values:  ['whatsapp' 'Facebook' 'Email' 'LinkedIn']\n"
     ]
    }
   ],
   "source": [
    "# Column - source\n",
    "\n",
    "print('source')\n",
    "print('Unique value count: ', df['source'].nunique())\n",
    "print('Unique values: ', df['source'].unique())"
   ]
  },
  {
   "cell_type": "code",
   "execution_count": 11,
   "metadata": {},
   "outputs": [
    {
     "data": {
      "image/png": "[encoded data removed]",
      "text/plain": [
       "<Figure size 432x288 with 1 Axes>"
      ]
     },
     "metadata": {},
     "output_type": "display_data"
    }
   ],
   "source": [
    "# Count plot - source\n",
    "\n",
    "sns.countplot(df['source'])\n",
    "plt.show()"
   ]
  },
  {
   "cell_type": "code",
   "execution_count": 12,
   "metadata": {},
   "outputs": [
    {
     "name": "stdout",
     "output_type": "stream",
     "text": [
      "ip\n",
      "Unique value count:  213\n"
     ]
    }
   ],
   "source": [
    "# Column - ip\n",
    "\n",
    "print('ip')\n",
    "print('Unique value count: ', df['ip'].nunique())"
   ]
  },
  {
   "cell_type": "code",
   "execution_count": 13,
   "metadata": {},
   "outputs": [
    {
     "name": "stdout",
     "output_type": "stream",
     "text": [
      "country\n",
      "Unique value count:  9\n",
      "Unique values:  ['India' 'United States' 'United Arab Emirates' 'China' 'United Kingdom'\n",
      " 'Argentina' 'Republic of Lithuania' 'Peru' 'Germany']\n",
      "Counter({'India': 279,\n",
      "         'United States': 6,\n",
      "         'Germany': 3,\n",
      "         'United Arab Emirates': 2,\n",
      "         'China': 1,\n",
      "         'United Kingdom': 1,\n",
      "         'Argentina': 1,\n",
      "         'Republic of Lithuania': 1,\n",
      "         'Peru': 1})\n"
     ]
    }
   ],
   "source": [
    "# Column - country\n",
    "\n",
    "print('country')\n",
    "print('Unique value count: ', df['country'].nunique())\n",
    "print('Unique values: ', df['country'].unique())\n",
    "\n",
    "\n",
    "count = Counter(df['country'])\n",
    "pprint(count)"
   ]
  },
  {
   "cell_type": "code",
   "execution_count": 14,
   "metadata": {},
   "outputs": [
    {
     "name": "stdout",
     "output_type": "stream",
     "text": [
      "Counter({'IN': 279,\n",
      "         'US': 6,\n",
      "         'DE': 3,\n",
      "         'AE': 2,\n",
      "         'CN': 1,\n",
      "         'GB': 1,\n",
      "         'AR': 1,\n",
      "         'LT': 1,\n",
      "         'PE': 1})\n"
     ]
    }
   ],
   "source": [
    "# Column - countryCode\n",
    "\n",
    "count = Counter(df['countryCode'])\n",
    "pprint(count)"
   ]
  },
  {
   "cell_type": "code",
   "execution_count": 15,
   "metadata": {},
   "outputs": [
    {
     "data": {
      "image/png": "[encoded data removed]",
      "text/plain": [
       "<Figure size 432x288 with 1 Axes>"
      ]
     },
     "metadata": {},
     "output_type": "display_data"
    }
   ],
   "source": [
    "# Count plot - countryCode\n",
    "\n",
    "sns.countplot(df[df['countryCode'] != 'IN']['countryCode'])\n",
    "plt.show()"
   ]
  },
  {
   "cell_type": "code",
   "execution_count": 16,
   "metadata": {},
   "outputs": [
    {
     "name": "stdout",
     "output_type": "stream",
     "text": [
      "isp\n",
      "Unique value count:  36\n"
     ]
    }
   ],
   "source": [
    "# Column - isp\n",
    "\n",
    "print('isp')\n",
    "print('Unique value count: ', df['isp'].nunique())"
   ]
  },
  {
   "cell_type": "code",
   "execution_count": 17,
   "metadata": {},
   "outputs": [
    {
     "name": "stdout",
     "output_type": "stream",
     "text": [
      "lat\n",
      "Unique value count:  62\n",
      "lon\n",
      "Unique value count:  60\n"
     ]
    }
   ],
   "source": [
    "# Column - lat and lon\n",
    "\n",
    "print('lat')\n",
    "print('Unique value count: ', df['lat'].nunique())\n",
    "\n",
    "print('lon')\n",
    "print('Unique value count: ', df['lon'].nunique())"
   ]
  },
  {
   "cell_type": "code",
   "execution_count": 18,
   "metadata": {},
   "outputs": [
    {
     "name": "stdout",
     "output_type": "stream",
     "text": [
      "org\n",
      "Unique value count:  34\n"
     ]
    }
   ],
   "source": [
    "# Column - org\n",
    "\n",
    "print('org')\n",
    "print('Unique value count: ', df['org'].nunique())"
   ]
  },
  {
   "cell_type": "code",
   "execution_count": 19,
   "metadata": {},
   "outputs": [
    {
     "name": "stdout",
     "output_type": "stream",
     "text": [
      "region\n",
      "Unique value count:  27\n"
     ]
    }
   ],
   "source": [
    "# Column - region\n",
    "\n",
    "print('region')\n",
    "print('Unique value count: ', df['region'].nunique())"
   ]
  },
  {
   "cell_type": "code",
   "execution_count": 20,
   "metadata": {},
   "outputs": [
    {
     "name": "stdout",
     "output_type": "stream",
     "text": [
      "regionName\n",
      "Unique value count:  29\n"
     ]
    }
   ],
   "source": [
    "# Column - regionName\n",
    "\n",
    "print('regionName')\n",
    "print('Unique value count: ', df['regionName'].nunique())"
   ]
  },
  {
   "cell_type": "code",
   "execution_count": 21,
   "metadata": {},
   "outputs": [
    {
     "name": "stdout",
     "output_type": "stream",
     "text": [
      "zip\n",
      "Unique value count:  79\n"
     ]
    }
   ],
   "source": [
    "# Column - zip\n",
    "\n",
    "print('zip')\n",
    "print('Unique value count: ', df['zip'].nunique())"
   ]
  },
  {
   "cell_type": "code",
   "execution_count": 22,
   "metadata": {},
   "outputs": [
    {
     "name": "stdout",
     "output_type": "stream",
     "text": [
      "timestamp\n",
      "Sample:  2018-09-12 10:16:17\n"
     ]
    }
   ],
   "source": [
    "# Column - timestamp\n",
    "\n",
    "print('timestamp')\n",
    "print('Sample: ', df['timestamp'][0])"
   ]
  },
  {
   "cell_type": "code",
   "execution_count": 23,
   "metadata": {},
   "outputs": [],
   "source": [
    "# Convert str to datetime\n",
    "# Parameters: \n",
    "# data - String data format\n",
    "# Return:\n",
    "# datetime object\n",
    "\n",
    "def convert_to_datetime(data):\n",
    "    return datetime.strptime(data[:-3], '%Y-%m-%d %H:%M')"
   ]
  },
  {
   "cell_type": "code",
   "execution_count": 24,
   "metadata": {},
   "outputs": [
    {
     "name": "stdout",
     "output_type": "stream",
     "text": [
      "Type of timestamp:  <class 'str'>\n",
      "Sample:  2018-09-12 10:16:17\n",
      "\n",
      "Converting...\n",
      "\n",
      "Type of timestamp:  <class 'pandas._libs.tslibs.timestamps.Timestamp'>\n",
      "Sample:  2018-09-12 10:16:00\n"
     ]
    }
   ],
   "source": [
    "# Type conversion to datatime\n",
    "\n",
    "print('Type of timestamp: ', type(df['timestamp'][0]))\n",
    "print('Sample: ', df['timestamp'][0])\n",
    "\n",
    "print('\\nConverting...\\n')\n",
    "df['timestamp'] = df['timestamp'].apply(convert_to_datetime)\n",
    "\n",
    "print('Type of timestamp: ', type(df['timestamp'][0]))\n",
    "print('Sample: ', df['timestamp'][0])"
   ]
  },
  {
   "cell_type": "code",
   "execution_count": 26,
   "metadata": {},
   "outputs": [
    {
     "data": {
      "text/html": [
       "<div>\n",
       "<style scoped>\n",
       "    .dataframe tbody tr th:only-of-type {\n",
       "        vertical-align: middle;\n",
       "    }\n",
       "\n",
       "    .dataframe tbody tr th {\n",
       "        vertical-align: top;\n",
       "    }\n",
       "\n",
       "    .dataframe thead th {\n",
       "        text-align: right;\n",
       "    }\n",
       "</style>\n",
       "<table border=\"1\" class=\"dataframe\">\n",
       "  <thead>\n",
       "    <tr style=\"text-align: right;\">\n",
       "      <th></th>\n",
       "      <th>fest_id</th>\n",
       "      <th>campaign_id</th>\n",
       "      <th>source</th>\n",
       "      <th>ip</th>\n",
       "      <th>city</th>\n",
       "      <th>country</th>\n",
       "      <th>countryCode</th>\n",
       "      <th>isp</th>\n",
       "      <th>lat</th>\n",
       "      <th>lon</th>\n",
       "      <th>org</th>\n",
       "      <th>query</th>\n",
       "      <th>region</th>\n",
       "      <th>regionName</th>\n",
       "      <th>status</th>\n",
       "      <th>timezone</th>\n",
       "      <th>zip</th>\n",
       "      <th>timestamp</th>\n",
       "      <th>date</th>\n",
       "      <th>time</th>\n",
       "    </tr>\n",
       "  </thead>\n",
       "  <tbody>\n",
       "    <tr>\n",
       "      <th>0</th>\n",
       "      <td>0Zrk29JSlVqjkHeai0Hk</td>\n",
       "      <td>a54aaf0d-8b4e-41a1-8a8e-0ff3f7cca2e2</td>\n",
       "      <td>whatsapp</td>\n",
       "      <td>115.249.106.164</td>\n",
       "      <td>Vellore</td>\n",
       "      <td>India</td>\n",
       "      <td>IN</td>\n",
       "      <td>Reliance Communications</td>\n",
       "      <td>12.9333</td>\n",
       "      <td>79.1333</td>\n",
       "      <td>Reliance Communications</td>\n",
       "      <td>115.249.106.164</td>\n",
       "      <td>TN</td>\n",
       "      <td>Tamil Nadu</td>\n",
       "      <td>success</td>\n",
       "      <td>Asia/Kolkata</td>\n",
       "      <td>632014</td>\n",
       "      <td>2018-09-12 10:16:00</td>\n",
       "      <td>2018-09-12</td>\n",
       "      <td>10:16:00</td>\n",
       "    </tr>\n",
       "    <tr>\n",
       "      <th>1</th>\n",
       "      <td>4X6wBWASnaFBtGj9LQoS</td>\n",
       "      <td>80692e9c-2c39-4c7e-97d4-a2060333ff17</td>\n",
       "      <td>Facebook</td>\n",
       "      <td>106.203.21.154</td>\n",
       "      <td>Chennai</td>\n",
       "      <td>India</td>\n",
       "      <td>IN</td>\n",
       "      <td>Bharti Airtel</td>\n",
       "      <td>13.0833</td>\n",
       "      <td>80.2833</td>\n",
       "      <td>Bharti Airtel</td>\n",
       "      <td>106.203.21.154</td>\n",
       "      <td>TN</td>\n",
       "      <td>Tamil Nadu</td>\n",
       "      <td>success</td>\n",
       "      <td>Asia/Kolkata</td>\n",
       "      <td>600001</td>\n",
       "      <td>2018-09-12 10:34:00</td>\n",
       "      <td>2018-09-12</td>\n",
       "      <td>10:34:00</td>\n",
       "    </tr>\n",
       "  </tbody>\n",
       "</table>\n",
       "</div>"
      ],
      "text/plain": [
       "                fest_id                           campaign_id    source  \\\n",
       "0  0Zrk29JSlVqjkHeai0Hk  a54aaf0d-8b4e-41a1-8a8e-0ff3f7cca2e2  whatsapp   \n",
       "1  4X6wBWASnaFBtGj9LQoS  80692e9c-2c39-4c7e-97d4-a2060333ff17  Facebook   \n",
       "\n",
       "                ip     city country countryCode                      isp  \\\n",
       "0  115.249.106.164  Vellore   India          IN  Reliance Communications   \n",
       "1   106.203.21.154  Chennai   India          IN            Bharti Airtel   \n",
       "\n",
       "       lat      lon                      org            query region  \\\n",
       "0  12.9333  79.1333  Reliance Communications  115.249.106.164     TN   \n",
       "1  13.0833  80.2833            Bharti Airtel   106.203.21.154     TN   \n",
       "\n",
       "   regionName   status      timezone     zip           timestamp        date  \\\n",
       "0  Tamil Nadu  success  Asia/Kolkata  632014 2018-09-12 10:16:00  2018-09-12   \n",
       "1  Tamil Nadu  success  Asia/Kolkata  600001 2018-09-12 10:34:00  2018-09-12   \n",
       "\n",
       "       time  \n",
       "0  10:16:00  \n",
       "1  10:34:00  "
      ]
     },
     "execution_count": 26,
     "metadata": {},
     "output_type": "execute_result"
    }
   ],
   "source": [
    "# Splitting datetime into date and time\n",
    "\n",
    "df['date'] = [d.date() for d in df['timestamp']]\n",
    "df['time'] = [d.time() for d in df['timestamp']]\n",
    "\n",
    "df.head(2)"
   ]
  },
  {
   "cell_type": "code",
   "execution_count": null,
   "metadata": {},
   "outputs": [],
   "source": []
  }
 ],
 "metadata": {
  "kernelspec": {
   "display_name": "Python 3",
   "language": "python",
   "name": "python3"
  },
  "language_info": {
   "codemirror_mode": {
    "name": "ipython",
    "version": 3
   },
   "file_extension": ".py",
   "mimetype": "text/x-python",
   "name": "python",
   "nbconvert_exporter": "python",
   "pygments_lexer": "ipython3",
   "version": "3.6.5"
  }
 },
 "nbformat": 4,
 "nbformat_minor": 2
}
